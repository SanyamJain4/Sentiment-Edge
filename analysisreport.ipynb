{
  "nbformat": 4,
  "nbformat_minor": 0,
  "metadata": {
    "colab": {
      "provenance": []
    },
    "kernelspec": {
      "name": "python3",
      "display_name": "Python 3"
    },
    "language_info": {
      "name": "python"
    }
  },
  "cells": [
    {
      "cell_type": "code",
      "execution_count": 1,
      "metadata": {
        "colab": {
          "base_uri": "https://localhost:8080/"
        },
        "id": "JArsMcOmGJPD",
        "outputId": "69aa586c-0aca-4fee-ede8-155ebec28c5e"
      },
      "outputs": [
        {
          "output_type": "stream",
          "name": "stdout",
          "text": [
            "Cloning into 'stock_prediction_project'...\n",
            "fatal: could not read Username for 'https://github.com': No such device or address\n"
          ]
        }
      ],
      "source": [
        "# Stock Prediction Analysis\n",
        "\n",
        "## Step 1: Data Collection\n",
        "- Reddit posts were scraped using the PRAW API.\n",
        "- Stock-related news articles were scraped from websites.\n",
        "\n",
        "## Step 2: Sentiment Analysis\n",
        "- Sentiment scores for Reddit posts and news articles were calculated using VADER.\n",
        "\n",
        "## Step 3: Data Preprocessing\n",
        "- Technical indicators like SMA, EMA, RSI, MACD, and Bollinger Bands were calculated using TA-Lib.\n",
        "- Data was aligned by date for sentiment and stock movement.\n",
        "\n",
        "## Step 4: Model Training and Evaluation\n",
        "- A Random Forest classifier was used to predict stock movement.\n",
        "- Hyperparameters were tuned using GridSearchCV.\n",
        "\n",
        "## Conclusion\n",
        "- The model's performance was evaluated with accuracy and classification reports.\n"
      ]
    },
    {
      "cell_type": "code",
      "source": [],
      "metadata": {
        "id": "atxM3xRgGfYd"
      },
      "execution_count": null,
      "outputs": []
    }
  ]
}